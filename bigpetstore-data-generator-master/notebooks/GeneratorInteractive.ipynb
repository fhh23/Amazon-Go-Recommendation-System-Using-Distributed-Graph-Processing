{
 "metadata": {
  "name": ""
 },
 "nbformat": 3,
 "nbformat_minor": 0,
 "worksheets": [
  {
   "cells": [
    {
     "cell_type": "code",
     "collapsed": false,
     "input": [
      "%load_ext autoreload\n",
      "%autoreload 2\n",
      "%matplotlib inline\n",
      "import matplotlib.pyplot as plt\n",
      "import pandas as pd\n",
      "import numpy as np"
     ],
     "language": "python",
     "metadata": {},
     "outputs": [
      {
       "output_type": "stream",
       "stream": "stdout",
       "text": [
        "The autoreload extension is already loaded. To reload it, use:\n",
        "  %reload_ext autoreload\n"
       ]
      }
     ],
     "prompt_number": 69
    },
    {
     "cell_type": "code",
     "collapsed": false,
     "input": [
      "from utils import load_population_data\n",
      "zipcode_pop = load_population_data(\"../resources/population_data.csv\")"
     ],
     "language": "python",
     "metadata": {},
     "outputs": [],
     "prompt_number": 106
    },
    {
     "cell_type": "code",
     "collapsed": false,
     "input": [
      "zipcode_pop.iloc[:10]"
     ],
     "language": "python",
     "metadata": {},
     "outputs": [
      {
       "metadata": {},
       "output_type": "pyout",
       "prompt_number": 107,
       "text": [
        "11542    27633\n",
        "11547      793\n",
        "11545    12065\n",
        "11548     2780\n",
        "11549     2922\n",
        "19390    13425\n",
        "82443     4697\n",
        "82442      732\n",
        "82441      250\n",
        "82440      145\n",
        "dtype: int64"
       ]
      }
     ],
     "prompt_number": 107
    },
    {
     "cell_type": "code",
     "collapsed": false,
     "input": [
      "total_pop = zipcode_pop.sum(axis=0)\n",
      "print total_pop"
     ],
     "language": "python",
     "metadata": {},
     "outputs": [
      {
       "output_type": "stream",
       "stream": "stdout",
       "text": [
        "308722808\n"
       ]
      }
     ],
     "prompt_number": 108
    },
    {
     "cell_type": "code",
     "collapsed": false,
     "input": [
      "import numpy as np\n",
      "pop_density = zipcode_pop / np.float64(total_pop)"
     ],
     "language": "python",
     "metadata": {},
     "outputs": [],
     "prompt_number": 109
    },
    {
     "cell_type": "code",
     "collapsed": false,
     "input": [
      "pop_density.iloc[:10]"
     ],
     "language": "python",
     "metadata": {},
     "outputs": [
      {
       "metadata": {},
       "output_type": "pyout",
       "prompt_number": 110,
       "text": [
        "11542    0.000090\n",
        "11547    0.000003\n",
        "11545    0.000039\n",
        "11548    0.000009\n",
        "11549    0.000009\n",
        "19390    0.000043\n",
        "82443    0.000015\n",
        "82442    0.000002\n",
        "82441    0.000001\n",
        "82440    0.000000\n",
        "dtype: float64"
       ]
      }
     ],
     "prompt_number": 110
    },
    {
     "cell_type": "code",
     "collapsed": false,
     "input": [
      "pop_density.index[:10]"
     ],
     "language": "python",
     "metadata": {},
     "outputs": [
      {
       "metadata": {},
       "output_type": "pyout",
       "prompt_number": 111,
       "text": [
        "Index([u'11542', u'11547', u'11545', u'11548', u'11549', u'19390', u'82443', u'82442', u'82441', u'82440'], dtype='object')"
       ]
      }
     ],
     "prompt_number": 111
    },
    {
     "cell_type": "code",
     "collapsed": false,
     "input": [
      "from store import StoreGenerator\n"
     ],
     "language": "python",
     "metadata": {},
     "outputs": [],
     "prompt_number": 135
    },
    {
     "cell_type": "code",
     "collapsed": false,
     "input": [
      "sg = StoreGenerator(zipcode_pop)\n"
     ],
     "language": "python",
     "metadata": {},
     "outputs": [],
     "prompt_number": 136
    },
    {
     "cell_type": "code",
     "collapsed": false,
     "input": [
      "sg.create_stores([\"01029\", \"03830\", \"05301\", \"10004\"])"
     ],
     "language": "python",
     "metadata": {},
     "outputs": [
      {
       "html": [
        "<div style=\"max-height:1000px;max-width:1500px;overflow:auto;\">\n",
        "<table border=\"1\" class=\"dataframe\">\n",
        "  <thead>\n",
        "    <tr style=\"text-align: right;\">\n",
        "      <th></th>\n",
        "      <th>id</th>\n",
        "      <th>pop_density</th>\n",
        "      <th>zipcode</th>\n",
        "    </tr>\n",
        "  </thead>\n",
        "  <tbody>\n",
        "    <tr>\n",
        "      <th>01029</th>\n",
        "      <td> 0</td>\n",
        "      <td> 0.035368</td>\n",
        "      <td> 01029</td>\n",
        "    </tr>\n",
        "    <tr>\n",
        "      <th>03830</th>\n",
        "      <td> 1</td>\n",
        "      <td> 0.072171</td>\n",
        "      <td> 03830</td>\n",
        "    </tr>\n",
        "    <tr>\n",
        "      <th>05301</th>\n",
        "      <td> 2</td>\n",
        "      <td> 0.753990</td>\n",
        "      <td> 05301</td>\n",
        "    </tr>\n",
        "    <tr>\n",
        "      <th>10004</th>\n",
        "      <td> 3</td>\n",
        "      <td> 0.138471</td>\n",
        "      <td> 10004</td>\n",
        "    </tr>\n",
        "  </tbody>\n",
        "</table>\n",
        "<p>4 rows \u00d7 3 columns</p>\n",
        "</div>"
       ],
       "metadata": {},
       "output_type": "pyout",
       "prompt_number": 137,
       "text": [
        "       id  pop_density zipcode\n",
        "01029   0     0.035368   01029\n",
        "03830   1     0.072171   03830\n",
        "05301   2     0.753990   05301\n",
        "10004   3     0.138471   10004\n",
        "\n",
        "[4 rows x 3 columns]"
       ]
      }
     ],
     "prompt_number": 137
    },
    {
     "cell_type": "code",
     "collapsed": false,
     "input": [
      "stores = sg.generate_n(10)"
     ],
     "language": "python",
     "metadata": {},
     "outputs": [],
     "prompt_number": 138
    },
    {
     "cell_type": "code",
     "collapsed": false,
     "input": [
      "print stores"
     ],
     "language": "python",
     "metadata": {},
     "outputs": [
      {
       "output_type": "stream",
       "stream": "stdout",
       "text": [
        "       id  pop_density zipcode\n",
        "27958   0     0.060439   27958\n",
        "30439   1     0.064806   30439\n",
        "45424   2     0.297487   45424\n",
        "77017   3     0.194001   77017\n",
        "53185   4     0.110529   53185\n",
        "46205   5     0.151073   46205\n",
        "23517   6     0.026716   23517\n",
        "40242   7     0.065122   40242\n",
        "51462   8     0.006036   51462\n",
        "95328   9     0.023791   95328\n",
        "\n",
        "[10 rows x 3 columns]\n"
       ]
      }
     ],
     "prompt_number": 139
    },
    {
     "cell_type": "code",
     "collapsed": false,
     "input": [
      "from store import StoreSampler"
     ],
     "language": "python",
     "metadata": {},
     "outputs": [],
     "prompt_number": 140
    },
    {
     "cell_type": "code",
     "collapsed": false,
     "input": [
      "ss = StoreSampler(stores)"
     ],
     "language": "python",
     "metadata": {},
     "outputs": [],
     "prompt_number": 141
    },
    {
     "cell_type": "code",
     "collapsed": false,
     "input": [
      "ss.sample()"
     ],
     "language": "python",
     "metadata": {},
     "outputs": [
      {
       "metadata": {},
       "output_type": "pyout",
       "prompt_number": 142,
       "text": [
        "id                     2\n",
        "pop_density    0.2974875\n",
        "zipcode            45424\n",
        "Name: 45424, dtype: object"
       ]
      }
     ],
     "prompt_number": 142
    },
    {
     "cell_type": "code",
     "collapsed": false,
     "input": [
      "from customer import CustomerGenerator"
     ],
     "language": "python",
     "metadata": {},
     "outputs": [],
     "prompt_number": 144
    },
    {
     "cell_type": "code",
     "collapsed": false,
     "input": [
      "cg = CustomerGenerator(stores)"
     ],
     "language": "python",
     "metadata": {},
     "outputs": [],
     "prompt_number": 155
    },
    {
     "cell_type": "code",
     "collapsed": false,
     "input": [
      "customers = cg.generate_n(10)"
     ],
     "language": "python",
     "metadata": {},
     "outputs": [],
     "prompt_number": 156
    },
    {
     "cell_type": "code",
     "collapsed": false,
     "input": [
      "customers"
     ],
     "language": "python",
     "metadata": {},
     "outputs": [
      {
       "html": [
        "<div style=\"max-height:1000px;max-width:1500px;overflow:auto;\">\n",
        "<table border=\"1\" class=\"dataframe\">\n",
        "  <thead>\n",
        "    <tr style=\"text-align: right;\">\n",
        "      <th></th>\n",
        "      <th>id</th>\n",
        "      <th>name</th>\n",
        "      <th>pet_type</th>\n",
        "      <th>purchase_pdf</th>\n",
        "      <th>zipcode</th>\n",
        "    </tr>\n",
        "  </thead>\n",
        "  <tbody>\n",
        "    <tr>\n",
        "      <th>0</th>\n",
        "      <td> 0</td>\n",
        "      <td>    Lisa Van Horn</td>\n",
        "      <td> reptile</td>\n",
        "      <td> 0.187397</td>\n",
        "      <td> 45424</td>\n",
        "    </tr>\n",
        "    <tr>\n",
        "      <th>1</th>\n",
        "      <td> 1</td>\n",
        "      <td>         Lisa Doe</td>\n",
        "      <td>     cat</td>\n",
        "      <td> 0.134411</td>\n",
        "      <td> 46205</td>\n",
        "    </tr>\n",
        "    <tr>\n",
        "      <th>2</th>\n",
        "      <td> 2</td>\n",
        "      <td>      Susan Smith</td>\n",
        "      <td>  rabbit</td>\n",
        "      <td> 0.066788</td>\n",
        "      <td> 53185</td>\n",
        "    </tr>\n",
        "    <tr>\n",
        "      <th>3</th>\n",
        "      <td> 3</td>\n",
        "      <td>      Susan Smith</td>\n",
        "      <td>  rodent</td>\n",
        "      <td> 0.081256</td>\n",
        "      <td> 53185</td>\n",
        "    </tr>\n",
        "    <tr>\n",
        "      <th>4</th>\n",
        "      <td> 4</td>\n",
        "      <td>      Jay Houdini</td>\n",
        "      <td>  rodent</td>\n",
        "      <td> 0.010211</td>\n",
        "      <td> 45424</td>\n",
        "    </tr>\n",
        "    <tr>\n",
        "      <th>5</th>\n",
        "      <td> 5</td>\n",
        "      <td> Marigold Houdini</td>\n",
        "      <td>  rodent</td>\n",
        "      <td> 0.094618</td>\n",
        "      <td> 45424</td>\n",
        "    </tr>\n",
        "    <tr>\n",
        "      <th>6</th>\n",
        "      <td> 6</td>\n",
        "      <td>      Chris Smith</td>\n",
        "      <td>  rabbit</td>\n",
        "      <td> 0.009195</td>\n",
        "      <td> 45424</td>\n",
        "    </tr>\n",
        "    <tr>\n",
        "      <th>7</th>\n",
        "      <td> 7</td>\n",
        "      <td> Marigold Houdini</td>\n",
        "      <td>    fish</td>\n",
        "      <td> 0.107318</td>\n",
        "      <td> 45424</td>\n",
        "    </tr>\n",
        "    <tr>\n",
        "      <th>8</th>\n",
        "      <td> 8</td>\n",
        "      <td>      Lisa Danzig</td>\n",
        "      <td> reptile</td>\n",
        "      <td> 0.001110</td>\n",
        "      <td> 45424</td>\n",
        "    </tr>\n",
        "    <tr>\n",
        "      <th>9</th>\n",
        "      <td> 9</td>\n",
        "      <td>      Lisa Danzig</td>\n",
        "      <td>     cat</td>\n",
        "      <td> 0.307695</td>\n",
        "      <td> 45424</td>\n",
        "    </tr>\n",
        "  </tbody>\n",
        "</table>\n",
        "<p>10 rows \u00d7 5 columns</p>\n",
        "</div>"
       ],
       "metadata": {},
       "output_type": "pyout",
       "prompt_number": 157,
       "text": [
        "   id              name pet_type  purchase_pdf zipcode\n",
        "0   0     Lisa Van Horn  reptile      0.187397   45424\n",
        "1   1          Lisa Doe      cat      0.134411   46205\n",
        "2   2       Susan Smith   rabbit      0.066788   53185\n",
        "3   3       Susan Smith   rodent      0.081256   53185\n",
        "4   4       Jay Houdini   rodent      0.010211   45424\n",
        "5   5  Marigold Houdini   rodent      0.094618   45424\n",
        "6   6       Chris Smith   rabbit      0.009195   45424\n",
        "7   7  Marigold Houdini     fish      0.107318   45424\n",
        "8   8       Lisa Danzig  reptile      0.001110   45424\n",
        "9   9       Lisa Danzig      cat      0.307695   45424\n",
        "\n",
        "[10 rows x 5 columns]"
       ]
      }
     ],
     "prompt_number": 157
    },
    {
     "cell_type": "code",
     "collapsed": false,
     "input": [],
     "language": "python",
     "metadata": {},
     "outputs": []
    }
   ],
   "metadata": {}
  }
 ]
}